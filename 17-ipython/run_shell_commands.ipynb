{
 "cells": [
  {
   "cell_type": "markdown",
   "metadata": {},
   "source": [
    "# Using IPython to Run Unix Shell Commands"
   ]
  },
  {
   "cell_type": "code",
   "execution_count": 9,
   "metadata": {},
   "outputs": [],
   "source": [
    "import pprint as pp"
   ]
  },
  {
   "cell_type": "code",
   "execution_count": 12,
   "metadata": {},
   "outputs": [
    {
     "name": "stdout",
     "output_type": "stream",
     "text": [
      "['total 0',\n",
      " 'drwx------@  3 plaurent  staff    96 Aug  6 21:06 Applications',\n",
      " 'drwxr-xr-x   6 plaurent  staff   192 Sep 12 06:35 Calibre Library',\n",
      " 'drwxr-xr-x  10 plaurent  staff   320 Dec 17 09:01 Data',\n",
      " 'drwx------@ 33 plaurent  staff  1056 Dec 17 09:13 Desktop',\n",
      " 'drwx------@  3 plaurent  staff    96 Aug  1 07:23 Documents',\n",
      " 'drwx------@ 16 plaurent  staff   512 Dec 20 09:52 Downloads',\n",
      " 'drwx------@ 66 plaurent  staff  2112 Dec 17 13:35 Library',\n",
      " 'drwx------+ 20 plaurent  staff   640 Nov 12 10:13 Movies',\n",
      " 'drwx------+  9 plaurent  staff   288 Oct  6 15:56 Music',\n",
      " 'drwx------+  7 plaurent  staff   224 Oct 26 10:27 Pictures',\n",
      " 'drwxr-xr-x   3 plaurent  staff    96 Nov  7 18:23 Postman',\n",
      " 'drwxr-xr-x+  4 plaurent  staff   128 Aug  1 07:21 Public',\n",
      " 'drwxr-xr-x  15 plaurent  staff   480 Dec 17 08:52 bin',\n",
      " 'drwxr-xr-x  10 plaurent  staff   320 Sep 12 06:36 tmp']\n"
     ]
    }
   ],
   "source": [
    "var_ls = !ls -l $HOME\n",
    "pp.pprint(var_ls)"
   ]
  },
  {
   "cell_type": "code",
   "execution_count": 14,
   "metadata": {},
   "outputs": [
    {
     "data": {
      "text/plain": [
       "IPython.utils.text.SList"
      ]
     },
     "execution_count": 14,
     "metadata": {},
     "output_type": "execute_result"
    }
   ],
   "source": [
    "type(var_ls)"
   ]
  },
  {
   "cell_type": "code",
   "execution_count": 19,
   "metadata": {},
   "outputs": [
    {
     "name": "stdout",
     "output_type": "stream",
     "text": [
      "['Filesystem    512-blocks      Used  Available Capacity iused      ifree '\n",
      " '%iused  Mounted on',\n",
      " 'devfs                381       381          0   100%     660          0  '\n",
      " '100%   /dev',\n",
      " 'map auto_home          0         0          0   100%       0          0  '\n",
      " '100%   /System/Volumes/Data/home',\n",
      " '/dev/disk1s1  1953595632  21947984 1061729408     3%  488397 9767489763    '\n",
      " '0%   /',\n",
      " '/dev/disk1s2  1953595632 862000312 1061729408    45% 2892636 9765085524    '\n",
      " '0%   /System/Volumes/Data',\n",
      " '/dev/disk1s4  1953595632   1033112 1061729408     1%      50 9767978110    '\n",
      " '0%   /Volumes/Recovery',\n",
      " '/dev/disk1s5  1953595632   6293544 1061729408     1%       3 9767978157    '\n",
      " '0%   /private/var/vm']\n"
     ]
    }
   ],
   "source": [
    "df = !df\n",
    "df_sort = df.sort(3, nums=True)\n",
    "pp.pprint(df_sort)"
   ]
  },
  {
   "cell_type": "code",
   "execution_count": 20,
   "metadata": {},
   "outputs": [
    {
     "name": "stdout",
     "output_type": "stream",
     "text": [
      "['-rwxr-xr-x   1 root   wheel      1621 Dec 13  2019 kill.d',\n",
      " '-rwxr-xr-x   1 root   wheel     37120 Sep 21 20:29 killall',\n",
      " '-rwxr-xr-x   1 root   wheel     43648 Sep 21 20:29 pkill']\n"
     ]
    }
   ],
   "source": [
    "ls = !ls -l /usr/bin\n",
    "ls = ls.grep('kill')\n",
    "pp.pprint(ls)"
   ]
  },
  {
   "cell_type": "markdown",
   "metadata": {},
   "source": [
    "# Using IPython magic commands"
   ]
  },
  {
   "cell_type": "code",
   "execution_count": 26,
   "metadata": {},
   "outputs": [
    {
     "name": "stdout",
     "output_type": "stream",
     "text": [
      "Darwin Pascals-iMac.local 19.6.0 Darwin Kernel Version 19.6.0: Mon Aug 31 22:12:52 PDT 2020; root:xnu-6153.141.2~1/RELEASE_X86_64 x86_64\n",
      "total 9\n",
      "drwxrwxr-x+ 44 root  admin  1408 Dec 17 13:35 Applications\n",
      "drwxr-xr-x  65 root  wheel  2080 Oct 15 17:11 Library\n",
      "drwxr-xr-x@  8 root  wheel   256 Jan 23  2020 System\n",
      "drwxr-xr-x   6 root  admin   192 Jan 23  2020 Users\n",
      "drwxr-xr-x   4 root  wheel   128 Dec 20 13:04 Volumes\n",
      "drwxr-xr-x@ 38 root  wheel  1216 Oct  6 07:45 bin\n",
      "drwxr-xr-x   2 root  wheel    64 Dec 13  2019 cores\n",
      "dr-xr-xr-x   3 root  wheel  4466 Nov 22 11:49 dev\n",
      "lrwxr-xr-x@  1 root  admin    11 Jan 23  2020 etc -> private/etc\n",
      "lrwxr-xr-x   1 root  wheel    25 Nov 22 11:49 home -> /System/Volumes/Data/home\n",
      "drwxr-xr-x   2 root  wheel    64 Dec 13  2019 opt\n",
      "drwxr-xr-x   6 root  wheel   192 Oct  6 07:45 private\n",
      "drwxr-xr-x@ 63 root  wheel  2016 Oct  6 07:45 sbin\n",
      "lrwxr-xr-x@  1 root  admin    11 Jan 23  2020 tmp -> private/tmp\n",
      "drwxr-xr-x@ 11 root  wheel   352 Jan 23  2020 usr\n",
      "lrwxr-xr-x@  1 root  admin    11 Jan 23  2020 var -> private/var\n"
     ]
    }
   ],
   "source": [
    "%%bash\n",
    "uname -a\n",
    "ls -l /"
   ]
  },
  {
   "cell_type": "code",
   "execution_count": 34,
   "metadata": {},
   "outputs": [
    {
     "name": "stdout",
     "output_type": "stream",
     "text": [
      "df\t df_sort\t ls\t pp\t var_ls\t \n"
     ]
    }
   ],
   "source": [
    "%who"
   ]
  },
  {
   "cell_type": "code",
   "execution_count": 28,
   "metadata": {},
   "outputs": [
    {
     "name": "stdout",
     "output_type": "stream",
     "text": [
      "Writing print_time.py\n"
     ]
    }
   ],
   "source": [
    "%%writefile print_time.py\n",
    "#!/Users/plaurent/.pyenv/shims/python\n",
    "\n",
    "import datetime\n",
    "\n",
    "print(datetime.datetime.now().time())"
   ]
  },
  {
   "cell_type": "code",
   "execution_count": 29,
   "metadata": {},
   "outputs": [
    {
     "name": "stdout",
     "output_type": "stream",
     "text": [
      "#!/Users/plaurent/.pyenv/shims/python\r\n",
      "\r\n",
      "import datetime\r\n",
      "\r\n",
      "print(datetime.datetime.now().time())\r\n"
     ]
    }
   ],
   "source": [
    "cat print_time.py"
   ]
  },
  {
   "cell_type": "code",
   "execution_count": 30,
   "metadata": {},
   "outputs": [
    {
     "name": "stdout",
     "output_type": "stream",
     "text": [
      "08:11:28.612491\r\n"
     ]
    }
   ],
   "source": [
    "!python print_time.py"
   ]
  },
  {
   "cell_type": "code",
   "execution_count": null,
   "metadata": {},
   "outputs": [],
   "source": [
    "# %load print_time.py\n",
    "#!/Users/plaurent/.pyenv/shims/python\n",
    "\n",
    "import datetime\n",
    "\n",
    "print(datetime.datetime.now().time())\n"
   ]
  },
  {
   "cell_type": "code",
   "execution_count": null,
   "metadata": {},
   "outputs": [],
   "source": []
  }
 ],
 "metadata": {
  "kernelspec": {
   "display_name": "Python 3",
   "language": "python",
   "name": "python3"
  },
  "language_info": {
   "codemirror_mode": {
    "name": "ipython",
    "version": 3
   },
   "file_extension": ".py",
   "mimetype": "text/x-python",
   "name": "python",
   "nbconvert_exporter": "python",
   "pygments_lexer": "ipython3",
   "version": "3.8.5"
  }
 },
 "nbformat": 4,
 "nbformat_minor": 4
}
